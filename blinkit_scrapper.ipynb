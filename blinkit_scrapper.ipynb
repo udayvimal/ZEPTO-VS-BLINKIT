{
 "cells": [
  {
   "cell_type": "code",
   "execution_count": null,
   "id": "65b91532",
   "metadata": {},
   "outputs": [],
   "source": [
    "import requests\n",
    "from bs4 import BeautifulSoup\n",
    "import pandas as pd\n",
    "\n",
    "def scrape_blinkit():\n",
    "    url = \"https://www.blinkit.com/cn/vegetables/cid/148\"  # example category\n",
    "    headers = {\"User-Agent\": \"Mozilla/5.0\"}\n",
    "    response = requests.get(url, headers=headers)\n",
    "\n",
    "    if response.status_code != 200:\n",
    "        print(\"Failed to fetch Blinkit page.\")\n",
    "        return\n",
    "\n",
    "    soup = BeautifulSoup(response.content, \"html.parser\")\n",
    "\n",
    "    product_divs = soup.find_all(\"div\", class_=\"ProductCard__Wrapper-sc-__sc-1hx3q0u-0\")\n",
    "    print(f\"Found {len(product_divs)} products.\")\n",
    "\n",
    "    data = []\n",
    "    for product in product_divs:\n",
    "        try:\n",
    "            name = product.find(\"div\", class_=\"ProductName__Name-sc-__sc-1hx3q0u-2\").text\n",
    "            price = product.find(\"span\", class_=\"Price__Value-sc-__sc-1hx3q0u-6\").text\n",
    "            delivery_time = \"15 minutes\"  # placeholder\n",
    "            data.append({\n",
    "                \"product_name\": name,\n",
    "                \"price\": price,\n",
    "                \"delivery_time\": delivery_time,\n",
    "                \"platform\": \"Blinkit\"\n",
    "            })\n",
    "        except:\n",
    "            continue\n",
    "\n",
    "    df = pd.DataFrame(data)\n",
    "    df.to_csv(\"data/blinkit_products.csv\", index=False)\n",
    "    print(\"Blinkit data saved to data/blinkit_products.csv\")\n",
    "\n",
    "if __name__ == \"__main__\":\n",
    "    scrape_blinkit()\n"
   ]
  },
  {
   "cell_type": "code",
   "execution_count": null,
   "id": "3caddbff",
   "metadata": {},
   "outputs": [],
   "source": []
  }
 ],
 "metadata": {
  "language_info": {
   "name": "python"
  }
 },
 "nbformat": 4,
 "nbformat_minor": 5
}
