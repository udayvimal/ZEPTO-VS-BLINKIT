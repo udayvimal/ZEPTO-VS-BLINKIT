{
 "cells": [
  {
   "cell_type": "code",
   "execution_count": 1,
   "id": "e10210b7",
   "metadata": {},
   "outputs": [],
   "source": [
    "import os\n",
    "import time\n",
    "import pandas as pd\n",
    "from selenium import webdriver\n",
    "from selenium.webdriver.chrome.service import Service\n",
    "from selenium.webdriver.common.by import By\n",
    "from selenium.webdriver.support.ui import WebDriverWait\n",
    "from selenium.webdriver.support import expected_conditions as EC"
   ]
  },
  {
   "cell_type": "code",
   "execution_count": null,
   "id": "7f8ecbae",
   "metadata": {},
   "outputs": [
    {
     "ename": "ModuleNotFoundError",
     "evalue": "No module named 'faker'",
     "output_type": "error",
     "traceback": [
      "\u001b[31m---------------------------------------------------------------------------\u001b[39m",
      "\u001b[31mModuleNotFoundError\u001b[39m                       Traceback (most recent call last)",
      "\u001b[36mCell\u001b[39m\u001b[36m \u001b[39m\u001b[32mIn[12]\u001b[39m\u001b[32m, line 3\u001b[39m\n\u001b[32m      1\u001b[39m \u001b[38;5;28;01mimport\u001b[39;00m\u001b[38;5;250m \u001b[39m\u001b[34;01mpandas\u001b[39;00m\u001b[38;5;250m \u001b[39m\u001b[38;5;28;01mas\u001b[39;00m\u001b[38;5;250m \u001b[39m\u001b[34;01mpd\u001b[39;00m\n\u001b[32m      2\u001b[39m \u001b[38;5;28;01mimport\u001b[39;00m\u001b[38;5;250m \u001b[39m\u001b[34;01mnumpy\u001b[39;00m\u001b[38;5;250m \u001b[39m\u001b[38;5;28;01mas\u001b[39;00m\u001b[38;5;250m \u001b[39m\u001b[34;01mnp\u001b[39;00m\n\u001b[32m----> \u001b[39m\u001b[32m3\u001b[39m \u001b[38;5;28;01mfrom\u001b[39;00m\u001b[38;5;250m \u001b[39m\u001b[34;01mfaker\u001b[39;00m\u001b[38;5;250m \u001b[39m\u001b[38;5;28;01mimport\u001b[39;00m Faker\n\u001b[32m      4\u001b[39m \u001b[38;5;28;01mimport\u001b[39;00m\u001b[38;5;250m \u001b[39m\u001b[34;01mrandom\u001b[39;00m\n\u001b[32m      5\u001b[39m \u001b[38;5;28;01mfrom\u001b[39;00m\u001b[38;5;250m \u001b[39m\u001b[34;01mdatetime\u001b[39;00m\u001b[38;5;250m \u001b[39m\u001b[38;5;28;01mimport\u001b[39;00m datetime, timedelta\n",
      "\u001b[31mModuleNotFoundError\u001b[39m: No module named 'faker'"
     ]
    }
   ],
   "source": [
    "import time\n",
    "import pandas as pd\n",
    "from selenium import webdriver\n",
    "from selenium.webdriver.common.by import By\n",
    "from selenium.webdriver.chrome.service import Service\n",
    "from webdriver_manager.chrome import ChromeDriverManager\n",
    "\n",
    "def scrape_zepto():\n",
    "    options = webdriver.ChromeOptions()\n",
    "    options.add_argument('--headless')\n",
    "    driver = webdriver.Chrome(service=Service(ChromeDriverManager().install()), options=options)\n",
    "\n",
    "    driver.get(\"https://www.zeptonow.com/pn/mumbai\")\n",
    "    time.sleep(5)\n",
    "\n",
    "    products = []\n",
    "    try:\n",
    "        for _ in range(3):  # Scroll 3 times\n",
    "            driver.execute_script(\"window.scrollBy(0, 1000);\")\n",
    "            time.sleep(2)\n",
    "\n",
    "        product_cards = driver.find_elements(By.CLASS_NAME, \"ProductCard__Container-sc-__sc-1k3x8z-1\")\n",
    "        print(f\"Found {len(product_cards)} products.\")\n",
    "\n",
    "        for card in product_cards:\n",
    "            try:\n",
    "                name = card.find_element(By.CLASS_NAME, \"ProductCard__Name-sc-__sc-1k3x8z-7\").text\n",
    "                price = card.find_element(By.CLASS_NAME, \"ProductCard__PriceLabel-sc-__sc-1k3x8z-10\").text\n",
    "                delivery_time = \"10 minutes\"  # fixed or use header banner\n",
    "                products.append({\n",
    "                    \"product_name\": name,\n",
    "                    \"price\": price,\n",
    "                    \"delivery_time\": delivery_time,\n",
    "                    \"platform\": \"Zepto\"\n",
    "                })\n",
    "            except Exception as e:\n",
    "                print(\"Error:\", e)\n",
    "                continue\n",
    "    finally:\n",
    "        driver.quit()\n",
    "\n",
    "    df = pd.DataFrame(products)\n",
    "    df.to_csv(\"data/zepto_products.csv\", index=False)\n",
    "    print(\"Zepto data saved to data/zepto_products.csv\")\n",
    "\n",
    "if __name__ == \"__main__\":\n",
    "    scrape_zepto()\n"
   ]
  },
  {
   "cell_type": "code",
   "execution_count": 15,
   "id": "6478c7d7",
   "metadata": {},
   "outputs": [
    {
     "data": {
      "text/plain": [
       "{'Avg Delivery Time (min)': {'Blinkit': 16.487, 'Zepto': 11.788},\n",
       " 'Avg Discount Amount (₹)': {'Blinkit': 17.51759, 'Zepto': 34.93879},\n",
       " 'Avg Net Order Value (₹)': {'Blinkit': 431.83337,\n",
       "  'Zepto': 367.05240000000003},\n",
       " 'Avg Raw Order Value (₹)': {'Blinkit': 449.35096000000004,\n",
       "  'Zepto': 401.99119},\n",
       " 'City Presence (Surat, Jaipur)': {'Surat': {'Blinkit': 42, 'Zepto': 38},\n",
       "  'Jaipur': {'Blinkit': 43, 'Zepto': 40}},\n",
       " 'Metro City Presence (Delhi, Mumbai, Bangalore)': {'Delhi': {'Blinkit': 183,\n",
       "   'Zepto': 168},\n",
       "  'Mumbai': {'Blinkit': 205, 'Zepto': 207},\n",
       "  'Bangalore': {'Blinkit': 135, 'Zepto': 149}},\n",
       " 'Payment Method (UPI %)': {'Blinkit': 60.3, 'Zepto': 59.599999999999994},\n",
       " 'Order Volume in 6PM–10PM (%)': {'Zepto': 50.23696682464455,\n",
       "  'Blinkit': 49.763033175355446},\n",
       " 'Category Distribution': {'Bakery': {'Blinkit': 104, 'Zepto': 108},\n",
       "  'Beverages': {'Blinkit': 106, 'Zepto': 112},\n",
       "  'Dairy': {'Blinkit': 101, 'Zepto': 122},\n",
       "  'Frozen Foods': {'Blinkit': 112, 'Zepto': 101},\n",
       "  'Fruits': {'Blinkit': 117, 'Zepto': 104},\n",
       "  'Household': {'Blinkit': 119, 'Zepto': 113},\n",
       "  'Personal Care': {'Blinkit': 114, 'Zepto': 127},\n",
       "  'Snacks': {'Blinkit': 132, 'Zepto': 96},\n",
       "  'Vegetables': {'Blinkit': 95, 'Zepto': 117}}}"
      ]
     },
     "execution_count": 15,
     "metadata": {},
     "output_type": "execute_result"
    }
   ],
   "source": [
    "# Check and confirm if data supports the analysis conclusions mentioned\n",
    "\n",
    "# Load datasets\n",
    "zepto_df = pd.read_csv(\"D:/scrap_project/zepto_synthetic_1000.csv\")\n",
    "blinkit_df = pd.read_csv(\"D:/scrap_project/blinkit_synthetic_1000.csv\")\n",
    "\n",
    "# Combine for comparison\n",
    "combined_df = pd.concat([zepto_df, blinkit_df])\n",
    "\n",
    "# Analysis 1: Average delivery time\n",
    "avg_delivery_time = combined_df.groupby(\"platform\")[\"delivery_time_min\"].mean()\n",
    "\n",
    "# Analysis 2: Average discount amount\n",
    "avg_discount = combined_df.groupby(\"platform\")[\"discount_amount\"].mean()\n",
    "\n",
    "# Analysis 3: Net order value comparison\n",
    "avg_net_order_value = combined_df.groupby(\"platform\")[\"net_order_value\"].mean()\n",
    "\n",
    "# Analysis 4: City distribution\n",
    "city_counts = combined_df.groupby([\"platform\", \"city\"]).size().unstack().fillna(0)\n",
    "\n",
    "# Analysis 5: Payment method distribution\n",
    "payment_dist = combined_df.groupby([\"platform\", \"payment_method\"]).size().unstack().fillna(0)\n",
    "\n",
    "# Analysis 6: Raw order value\n",
    "avg_order_value = combined_df.groupby(\"platform\")[\"order_value\"].mean()\n",
    "\n",
    "# Analysis 7: Category distribution\n",
    "category_dist = combined_df.groupby([\"platform\", \"product_category\"]).size().unstack().fillna(0)\n",
    "\n",
    "# Analysis 8: Order time range check (between 6PM–10PM)\n",
    "combined_df[\"order_hour\"] = pd.to_datetime(combined_df[\"order_time\"], format='%H:%M:%S').dt.hour\n",
    "peak_order_time = combined_df[(combined_df[\"order_hour\"] >= 18) & (combined_df[\"order_hour\"] <= 22)]\n",
    "peak_order_dist = peak_order_time[\"platform\"].value_counts(normalize=True) * 100\n",
    "\n",
    "{\n",
    "    \"Avg Delivery Time (min)\": avg_delivery_time.to_dict(),\n",
    "    \"Avg Discount Amount (₹)\": avg_discount.to_dict(),\n",
    "    \"Avg Net Order Value (₹)\": avg_net_order_value.to_dict(),\n",
    "    \"Avg Raw Order Value (₹)\": avg_order_value.to_dict(),\n",
    "    \"City Presence (Surat, Jaipur)\": city_counts[[\"Surat\", \"Jaipur\"]].to_dict(),\n",
    "    \"Metro City Presence (Delhi, Mumbai, Bangalore)\": city_counts[[\"Delhi\", \"Mumbai\", \"Bangalore\"]].to_dict(),\n",
    "    \"Payment Method (UPI %)\": (payment_dist.div(payment_dist.sum(axis=1), axis=0)[\"UPI\"] * 100).to_dict(),\n",
    "    \"Order Volume in 6PM–10PM (%)\": peak_order_dist.to_dict(),\n",
    "    \"Category Distribution\": category_dist.to_dict()\n",
    "}\n"
   ]
  },
  {
   "cell_type": "code",
   "execution_count": 16,
   "id": "de5dc680",
   "metadata": {},
   "outputs": [
    {
     "name": "stdout",
     "output_type": "stream",
     "text": [
      "Combined CSV saved as 'combined_zepto_blinkit.csv'\n"
     ]
    }
   ],
   "source": [
    "import pandas as pd\n",
    "\n",
    "# Assuming zepto_df and blinkit_df are already loaded DataFrames\n",
    "\n",
    "# Make sure the 'platform' column exists in both, else add it\n",
    "zepto_df['platform'] = 'Zepto'\n",
    "blinkit_df['platform'] = 'Blinkit'\n",
    "\n",
    "# Concatenate vertically\n",
    "combined_df = pd.concat([zepto_df, blinkit_df], ignore_index=True)\n",
    "\n",
    "# Save combined DataFrame as CSV\n",
    "combined_df.to_csv('combined_zepto_blinkit.csv', index=False)\n",
    "\n",
    "print(\"Combined CSV saved as 'combined_zepto_blinkit.csv'\")\n"
   ]
  }
 ],
 "metadata": {
  "kernelspec": {
   "display_name": "scrap_env",
   "language": "python",
   "name": "python3"
  },
  "language_info": {
   "codemirror_mode": {
    "name": "ipython",
    "version": 3
   },
   "file_extension": ".py",
   "mimetype": "text/x-python",
   "name": "python",
   "nbconvert_exporter": "python",
   "pygments_lexer": "ipython3",
   "version": "3.13.5"
  }
 },
 "nbformat": 4,
 "nbformat_minor": 5
}
